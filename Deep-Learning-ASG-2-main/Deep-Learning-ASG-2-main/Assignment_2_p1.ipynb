{
 "cells": [
  {
   "cell_type": "markdown",
   "metadata": {},
   "source": [
    "<table class=\"table table-bordered\">\n",
    "    <tr>\n",
    "        <th style=\"text-align:center; width:25%\"><img src='https://www.np.edu.sg/PublishingImages/Pages/default/odp/ICT.jpg' style=\"width: 250px; height: 125px; \"></th>\n",
    "        <th style=\"text-align:center;\"><h1>Deep Learning</h1><h2>Assignment 2 (Problem 1) - Sentiment Analysis Model  (Group)</h2><h3>AY2022/23 Semester</h3></th>\n",
    "    </tr>\n",
    "</table>"
   ]
  },
  {
   "cell_type": "code",
   "execution_count": 1,
   "metadata": {},
   "outputs": [
    {
     "data": {
      "text/html": [
       "<style>.container { width:95% !important; }</style>"
      ],
      "text/plain": [
       "<IPython.core.display.HTML object>"
      ]
     },
     "metadata": {},
     "output_type": "display_data"
    },
    {
     "name": "stderr",
     "output_type": "stream",
     "text": [
      "[nltk_data] Downloading package stopwords to\n",
      "[nltk_data]     C:\\Users\\hasanah\\AppData\\Roaming\\nltk_data...\n",
      "[nltk_data]   Package stopwords is already up-to-date!\n"
     ]
    },
    {
     "name": "stdout",
     "output_type": "stream",
     "text": [
      "Requirement already satisfied: tensorflow-addons in c:\\users\\hasanah\\anaconda3\\lib\\site-packages (0.17.1)\n",
      "Requirement already satisfied: packaging in c:\\users\\hasanah\\anaconda3\\lib\\site-packages (from tensorflow-addons) (21.3)\n",
      "Requirement already satisfied: typeguard>=2.7 in c:\\users\\hasanah\\anaconda3\\lib\\site-packages (from tensorflow-addons) (2.13.3)\n",
      "Requirement already satisfied: pyparsing!=3.0.5,>=2.0.2 in c:\\users\\hasanah\\anaconda3\\lib\\site-packages (from packaging->tensorflow-addons) (3.0.4)\n",
      "Note: you may need to restart the kernel to use updated packages.\n",
      "[]\n"
     ]
    },
    {
     "name": "stderr",
     "output_type": "stream",
     "text": [
      "[nltk_data] Downloading package words to\n",
      "[nltk_data]     C:\\Users\\hasanah\\AppData\\Roaming\\nltk_data...\n",
      "[nltk_data]   Package words is already up-to-date!\n"
     ]
    }
   ],
   "source": [
    "# Import the Required Packages\n",
    "from IPython.display import display, HTML\n",
    "display(HTML(\"<style>.container { width:95% !important; }</style>\"))\n",
    "from tensorflow import keras\n",
    "import pandas as pd\n",
    "import os\n",
    "import numpy as np\n",
    "import tensorflow as tf\n",
    "from tensorflow.keras.models import Sequential\n",
    "from tensorflow.keras.layers import Dense, Dropout, SimpleRNN, LSTM, GRU, Embedding, Flatten, Conv1D, GlobalMaxPooling1D, MaxPooling1D, BatchNormalization, Bidirectional\n",
    "from tensorflow.keras import models\n",
    "from tensorflow.keras import regularizers\n",
    "from tensorflow.keras import optimizers\n",
    "from tensorflow.keras.optimizers import RMSprop, Adam\n",
    "from tensorflow.keras.utils import to_categorical\n",
    "from sklearn.model_selection import train_test_split\n",
    "import matplotlib.pyplot as plt\n",
    "import emoji\n",
    "import nltk\n",
    "nltk.download('stopwords')\n",
    "from nltk.corpus import stopwords\n",
    "%pip install tensorflow-addons\n",
    "from tensorflow_addons.optimizers import AdaBelief\n",
    "#Plotting graph\n",
    "import string\n",
    "%matplotlib inline\n",
    "\n",
    "import csv\n",
    "#from spellchecker import SpellChecker\n",
    "import re\n",
    "import nltk\n",
    "import string\n",
    "# importing jaccard distance\n",
    "# and ngrams from nltk.util\n",
    "from nltk.metrics.distance import jaccard_distance\n",
    "from nltk.util import ngrams\n",
    "nltk.download('words')\n",
    "from nltk.corpus import words\n",
    "\n",
    "gpu_available = tf.config.list_physical_devices('GPU')\n",
    "print(gpu_available)"
   ]
  },
  {
   "cell_type": "markdown",
   "metadata": {},
   "source": [
    "## Step 1 – Data Loading and Processing (Group)"
   ]
  },
  {
   "cell_type": "markdown",
   "metadata": {},
   "source": [
    "### 1.1 Data Loading"
   ]
  },
  {
   "cell_type": "code",
   "execution_count": 8,
   "metadata": {},
   "outputs": [],
   "source": [
    "'''Change to your file path'''\n",
    "weekang_dataset = pd.read_csv(\"disney+_reviews.csv\")\n",
    "ziren_dataset = pd.read_csv(\"facebook_reviews.csv\")\n",
    "xihe_dataset = pd.read_csv(\"microsoftTeams_reviews.csv\")\n",
    "longt_dataset = pd.read_csv(\"wildrift_reviews.csv\")\n",
    "hasanah_dataset = pd.read_csv(\"netflix_reviews.csv\")\n",
    "\n",
    "\n",
    "# ======================================== CHANGE TO YOUR NAME ========================================\n",
    "dataset = _dataset"
   ]
  },
  {
   "cell_type": "code",
   "execution_count": 9,
   "metadata": {},
   "outputs": [
    {
     "name": "stdout",
     "output_type": "stream",
     "text": [
      "0 empty cells in content column\n",
      "0 empty cells in content column after removal\n"
     ]
    }
   ],
   "source": [
    "# Remove empty reviews \n",
    "\n",
    "# Shows the number of empty reviews in content column in the dataframe\n",
    "print(str(dataset['content'].isnull().sum()) + \" empty cells in content column\")\n",
    "\n",
    "# Drop missing values from dataframe\n",
    "dataset = dataset.dropna(subset=['content'],how = 'any')\n",
    "\n",
    "print(str(dataset['content'].isnull().sum()) + \" empty cells in content column after removal\")"
   ]
  },
  {
   "cell_type": "code",
   "execution_count": 10,
   "metadata": {
    "scrolled": false
   },
   "outputs": [
    {
     "name": "stdout",
     "output_type": "stream",
     "text": [
      "It is True that there are duplicate contents\n",
      "It is False that there are duplicate contents after cleaning\n",
      "Number of columns left:\n"
     ]
    },
    {
     "data": {
      "text/plain": [
       "3    10200\n",
       "2    10199\n",
       "4    10197\n",
       "5    10196\n",
       "1    10193\n",
       "Name: score, dtype: int64"
      ]
     },
     "execution_count": 10,
     "metadata": {},
     "output_type": "execute_result"
    }
   ],
   "source": [
    "# Remove duplicate entries in the dataframe only in the content column\n",
    "\n",
    "# Check rows for duplicated content (searches content column only!)\n",
    "print(\"It is \" + str(dataset['content'].duplicated().any().copy()) + \" that there are duplicate contents\")\n",
    "\n",
    "# Drop rows with duplicated content data \n",
    "# The first of the duplicates are kep\n",
    "dataset2 = dataset.drop_duplicates(subset=['content'], keep='first').copy()\n",
    "\n",
    "# Check if the duplicates are removed \n",
    "print(\"It is \" + str(dataset2['content'].duplicated().any()) + \" that there are duplicate contents after cleaning\")\n",
    "\n",
    "print(\"Number of columns left:\")\n",
    "dataset2.score.value_counts()\n"
   ]
  },
  {
   "cell_type": "code",
   "execution_count": 11,
   "metadata": {},
   "outputs": [
    {
     "name": "stdout",
     "output_type": "stream",
     "text": [
      "Data cleaning completed\n"
     ]
    }
   ],
   "source": [
    "from IPython.display import clear_output\n",
    "\n",
    "review_content = dataset2['content']\n",
    "review_labels = dataset2['score']\n",
    "csv_len = len(review_content.tolist())\n",
    "\n",
    "# ======================================== CHANGE TO YOUR FILENAME ========================================\n",
    "f = open('example.csv', 'w+', encoding=\"utf-8\" , newline='')\n",
    "\n",
    "words_list = []\n",
    "def read_words():\n",
    "    w = open('words.txt', 'r', encoding='utf-8')\n",
    "    lines = w.readlines()\n",
    "    for line in lines:\n",
    "        line = line.replace(\"\\n\", \"\")\n",
    "        words_list.append(line.lower())\n",
    "    w.close()\n",
    "    \n",
    "def remove_emojis(data):\n",
    "    emoj = re.compile(\"[\"\n",
    "        u\"\\U0001F600-\\U0001F64F\"  # emoticons\n",
    "        u\"\\U0001F300-\\U0001F5FF\"  # symbols & pictographs\n",
    "        u\"\\U0001F680-\\U0001F6FF\"  # transport & map symbols\n",
    "        u\"\\U0001F1E0-\\U0001F1FF\"  # flags (iOS)\n",
    "        u\"\\U00002500-\\U00002BEF\"  # chinese char\n",
    "        u\"\\U00002702-\\U000027B0\"\n",
    "        u\"\\U00002702-\\U000027B0\"\n",
    "        u\"\\U000024C2-\\U0001F251\"\n",
    "        u\"\\U0001f926-\\U0001f937\"\n",
    "        u\"\\U00010000-\\U0010ffff\"\n",
    "        u\"\\u2640-\\u2642\" \n",
    "        u\"\\u2600-\\u2B55\"\n",
    "        u\"\\u200d\"\n",
    "        u\"\\u23cf\"\n",
    "        u\"\\u23e9\"\n",
    "        u\"\\u231a\"\n",
    "        u\"\\ufe0f\"  # dingbats\n",
    "        u\"\\u3030\"\n",
    "                      \"]+\", re.UNICODE)\n",
    "    return re.sub(emoj, '', data)\n",
    "\n",
    "\n",
    "writer = csv.writer(f)\n",
    "header = ['content', 'score']\n",
    "writer.writerow(header)\n",
    "#data = [['test', 1], ['test2', 2]]\n",
    "\n",
    "# Filter words\n",
    "# loop for finding correct spellings\n",
    "# based on jaccard distance\n",
    "# and printing the correct word\n",
    "\n",
    "read_words()\n",
    "\n",
    "\n",
    "filtered_reviews = []\n",
    "one_count = 0\n",
    "two_count = 0 \n",
    "three_count = 0\n",
    "four_count = 0\n",
    "five_count = 0\n",
    "\n",
    "count = 0\n",
    "stop = stopwords.words('english')\n",
    "print(\"Starting.. ETA: 2.5hrs\")\n",
    "for sentence, score in zip(review_content.tolist(), review_labels.tolist()):\n",
    "    if score == 1 and one_count != 10000:\n",
    "        one_count += 1\n",
    "    elif score == 2 and two_count != 10000:\n",
    "        two_count += 1\n",
    "    elif score == 3 and three_count != 10000:\n",
    "        three_count += 1\n",
    "    elif score == 4 and four_count != 10000:\n",
    "        four_count += 1\n",
    "    elif score == 5 and five_count != 10000:\n",
    "        five_count += 1\n",
    "    else:\n",
    "        continue\n",
    "    sentence = remove_emojis(sentence)\n",
    "    seperated_sentence = sentence.split(\" \")\n",
    "    filtered_sentence = []\n",
    "    for word in seperated_sentence:\n",
    "        # remove punctuation\n",
    "        for punc in string.punctuation:\n",
    "            if punc in word:\n",
    "                word = word.replace(punc, '')\n",
    "        word = word.lower()\n",
    "        \n",
    "        # adds coorect word to list\n",
    "        if (word in stop):\n",
    "            continue\n",
    "        elif (word in words_list):\n",
    "            filtered_sentence.append(word)\n",
    "        #autocorrect misspelled words\n",
    "        elif (len(word) > 1 and word.isalpha() and re.compile(r'[a-z]')):\n",
    "            if (('a' <= word[0] <= \"z\" or 'A' <= word[0] <='Z') and (word.upper() != word.lower())):     \n",
    "                temp = [(jaccard_distance(set(ngrams(word, 2)),\n",
    "                              set(ngrams(w, 2))),w) for w in words_list if w[0]==word[0]]\n",
    "                filtered_sentence.append(sorted(temp, key = lambda val:val[0])[0][1])\n",
    "        \n",
    "    count += 1\n",
    "    filtered_reviews.append([' '.join(filtered_sentence), score])\n",
    "    print(\"Score: \" + str(score) + \" \\n#\" + str(count))\n",
    "    print(' '.join(filtered_sentence))\n",
    "#     if count % 25 == 0:\n",
    "#         print(f\"Progress: {count}/{csv_len}\")\n",
    "    \n",
    "writer.writerows(filtered_reviews)\n",
    "\n",
    "f.close()\n",
    "clear_output(wait=True)\n",
    "print(\"Data cleaning completed\")"
   ]
  },
  {
   "cell_type": "code",
   "execution_count": 9,
   "metadata": {
    "scrolled": true
   },
   "outputs": [],
   "source": [
    "# dataset.columns # Find out actual namees of columns in csv\n",
    "\n",
    "# # Drop all columns in the table that will not be used\n",
    "# dataset.pop('userImage')\n",
    "# dataset.pop('userName')\n",
    "# dataset.pop('thumbsUpCount')\n",
    "# dataset.pop('reviewCreatedVersion')\n",
    "# dataset.pop('at')\n",
    "# dataset.pop('replyContent')\n",
    "# dataset.pop('repliedAt')\n",
    "\n",
    "# # Check dataframe to ensure that the right tables have been dropped\n",
    "# dataset.columns"
   ]
  },
  {
   "cell_type": "markdown",
   "metadata": {},
   "source": [
    "### 1.2 Data Processing\n"
   ]
  },
  {
   "cell_type": "code",
   "execution_count": 12,
   "metadata": {},
   "outputs": [],
   "source": [
    "new_dataset = pd.read_csv(\"_filtered.csv\")"
   ]
  },
  {
   "cell_type": "code",
   "execution_count": 13,
   "metadata": {},
   "outputs": [
    {
     "name": "stdout",
     "output_type": "stream",
     "text": [
      "Found 21518 unique tokens.\n",
      "Shape of data tensor: (50000, 60)\n",
      "Shape of label tensor: (50000, 5)\n"
     ]
    }
   ],
   "source": [
    "# Convert the content and scores into numeric tensors\n",
    "from tensorflow.keras.preprocessing.text import Tokenizer\n",
    "from tensorflow.keras.preprocessing.sequence import pad_sequences\n",
    "review_content = new_dataset['content'].astype(\"str\")\n",
    "review_labels = new_dataset['score']\n",
    "\n",
    "# Convert labels to numpy arrays\n",
    "labels = to_categorical(review_labels).tolist()\n",
    "\n",
    "for label in labels:\n",
    "    label.pop(0)\n",
    "labels = np.array(labels)\n",
    "    \n",
    "# Initialize tokenizer\n",
    "vocab_size = 10000\n",
    "embedding_dim = 128\n",
    "max_length = 60\n",
    "trunc_type = 'post'\n",
    "\n",
    "tokenizer = Tokenizer(num_words=vocab_size)\n",
    "tokenizer.fit_on_texts(review_content)\n",
    "sequences = tokenizer.texts_to_sequences(review_content)\n",
    "word_index = tokenizer.word_index\n",
    "print('Found %s unique tokens.' % len(word_index))\n",
    "data = np.array(pad_sequences(sequences, maxlen=max_length, truncating = trunc_type))\n",
    "\n",
    "print('Shape of data tensor:', data.shape)\n",
    "print('Shape of label tensor:', labels.shape)\n",
    "\n",
    "indices = np.arange(data.shape[0])\n",
    "np.random.shuffle(indices)\n",
    "data = data[indices]\n",
    "labels = labels[indices]"
   ]
  },
  {
   "cell_type": "markdown",
   "metadata": {},
   "source": [
    "### 1.3 Data Sampling"
   ]
  },
  {
   "cell_type": "code",
   "execution_count": 14,
   "metadata": {},
   "outputs": [
    {
     "name": "stdout",
     "output_type": "stream",
     "text": [
      "20000\n",
      "10000\n",
      "20000\n",
      "[   0    0    0    0    0    0    0    0    0    0    0    0    0    0\n",
      "    0    0    0    0    0    0    0    0    0    0    0    0    0   67\n",
      "  368  221  220  366   70   89  401  846  485  143    2  404  552   13\n",
      "   36  112    9    3  201   10    4    1  322  781   33    1  272   88\n",
      " 3969  651  170 1528]\n",
      "[  0   0   0   0   0   0   0   0   0   0   0   0   0   0   0   0   0   0\n",
      "   0   0   0   0   0   0   0   0   0   0   0   0   0   0   0   0   0   0\n",
      "   0   0   0   0   0   0   0   0   0   0   0  11  33 310  75   5  63   5\n",
      "   5 696 278  11  82  46]\n",
      "[   0    0    0    0    0    0    0    0    0    0    0    0    0    0\n",
      "    0    0    0    0    0    0    0    0    0    0    0    0    0    0\n",
      "    0    0    0    0    0  743  274  104 7677  158  468   23  268   23\n",
      "  464  286  117  779   33  104  564  161   31  128 3670  104 2584    8\n",
      "   22  504 1021  104]\n"
     ]
    }
   ],
   "source": [
    "# Split the X & y into train and test sets\n",
    "x_train, x_test, y_train, y_test = train_test_split(data, labels, test_size=0.2)\n",
    "\n",
    "x_train_split = x_train[:20000]\n",
    "y_train_split = y_train[:20000]\n",
    "x_val = x_train[20000:]\n",
    "y_val = y_train[20000:]\n",
    "\n",
    "print(len(x_train_split))\n",
    "print(len(x_test))\n",
    "print(len(x_val))\n",
    "\n",
    "print(x_train_split[0])\n",
    "print(x_test[0])\n",
    "print(x_val[0])"
   ]
  },
  {
   "cell_type": "markdown",
   "metadata": {},
   "source": [
    "## Step 2 – Develop a Sentiment Analysis Model (Individual: One Model Per Student)"
   ]
  },
  {
   "cell_type": "markdown",
   "metadata": {},
   "source": [
    "### Model #1  (Student Name: Wee Kang)"
   ]
  },
  {
   "cell_type": "code",
   "execution_count": 54,
   "metadata": {},
   "outputs": [
    {
     "name": "stdout",
     "output_type": "stream",
     "text": [
      "WARNING:tensorflow:Layer lstm_40 will not use cuDNN kernels since it doesn't meet the criteria. It will use a generic GPU kernel as fallback when running on GPU.\n",
      "WARNING:tensorflow:Layer lstm_41 will not use cuDNN kernels since it doesn't meet the criteria. It will use a generic GPU kernel as fallback when running on GPU.\n",
      "WARNING:tensorflow:Layer lstm_42 will not use cuDNN kernels since it doesn't meet the criteria. It will use a generic GPU kernel as fallback when running on GPU.\n",
      "Model: \"sequential_15\"\n",
      "_________________________________________________________________\n",
      " Layer (type)                Output Shape              Param #   \n",
      "=================================================================\n",
      " embedding_15 (Embedding)    (None, 40, 64)            640000    \n",
      "                                                                 \n",
      " batch_normalization_21 (Bat  (None, 40, 64)           256       \n",
      " chNormalization)                                                \n",
      "                                                                 \n",
      " lstm_40 (LSTM)              (None, 40, 64)            33024     \n",
      "                                                                 \n",
      " lstm_41 (LSTM)              (None, 40, 128)           98816     \n",
      "                                                                 \n",
      " lstm_42 (LSTM)              (None, 256)               394240    \n",
      "                                                                 \n",
      " batch_normalization_22 (Bat  (None, 256)              1024      \n",
      " chNormalization)                                                \n",
      "                                                                 \n",
      " dense_11 (Dense)            (None, 5)                 1285      \n",
      "                                                                 \n",
      "=================================================================\n",
      "Total params: 1,168,645\n",
      "Trainable params: 1,168,005\n",
      "Non-trainable params: 640\n",
      "_________________________________________________________________\n"
     ]
    }
   ],
   "source": [
    "# Build the Model\n",
    "model = Sequential()\n",
    "model.add(Embedding(vocab_size, embedding_dim, input_length=max_length)) #receive word embedding as input\n",
    "model.add(Conv1D(128, 20, activation='relu'))\n",
    "model.add(MaxPooling1D(1))\n",
    "model.add(Conv1D(256, 20, activation='relu'))\n",
    "model.add(GlobalMaxPooling1D())\n",
    "model.add(Dense(5))\n",
    "'''\n",
    "model.add(LSTM(64, activation='relu', return_sequences=True))\n",
    "model.add(LSTM(128, activation='relu', return_sequences=True, recurrent_dropout=0.5))\n",
    "model.add(LSTM(256, activation='relu', recurrent_dropout=0.2))\n",
    "model.add(BatchNormalization())\n",
    "model.add(Dense(5, activation='softmax'))'''\n",
    "\n",
    "model.summary()"
   ]
  },
  {
   "cell_type": "code",
   "execution_count": 192,
   "metadata": {},
   "outputs": [
    {
     "name": "stdout",
     "output_type": "stream",
     "text": [
      "Epoch 1/20\n",
      "79/79 [==============================] - 36s 402ms/step - loss: 1.5143 - acc: 0.3241 - val_loss: 1.6081 - val_acc: 0.2000\n",
      "Epoch 2/20\n",
      "79/79 [==============================] - 31s 387ms/step - loss: 1.3708 - acc: 0.4114 - val_loss: 1.6064 - val_acc: 0.2000\n",
      "Epoch 3/20\n",
      "79/79 [==============================] - 30s 383ms/step - loss: 1.2609 - acc: 0.4659 - val_loss: 1.6010 - val_acc: 0.2000\n",
      "Epoch 4/20\n",
      "79/79 [==============================] - 30s 375ms/step - loss: 1.1868 - acc: 0.5074 - val_loss: 1.5853 - val_acc: 0.2430\n",
      "Epoch 5/20\n",
      "79/79 [==============================] - 30s 377ms/step - loss: 1.1223 - acc: 0.5347 - val_loss: 1.5488 - val_acc: 0.3119\n",
      "Epoch 6/20\n",
      "79/79 [==============================] - 30s 378ms/step - loss: 1.0716 - acc: 0.5612 - val_loss: 1.4775 - val_acc: 0.4212\n",
      "Epoch 7/20\n",
      "79/79 [==============================] - 30s 380ms/step - loss: 1.0206 - acc: 0.5859 - val_loss: 1.3806 - val_acc: 0.4515\n",
      "Epoch 8/20\n",
      "79/79 [==============================] - 32s 400ms/step - loss: 0.9781 - acc: 0.6080 - val_loss: 1.2914 - val_acc: 0.4717\n",
      "Epoch 9/20\n",
      "79/79 [==============================] - 32s 399ms/step - loss: 0.9263 - acc: 0.6334 - val_loss: 1.2449 - val_acc: 0.4762\n",
      "Epoch 10/20\n",
      "79/79 [==============================] - 31s 387ms/step - loss: 0.8832 - acc: 0.6507 - val_loss: 1.2717 - val_acc: 0.4812\n",
      "Epoch 11/20\n",
      "79/79 [==============================] - 35s 450ms/step - loss: 0.8426 - acc: 0.6715 - val_loss: 1.3207 - val_acc: 0.4789\n",
      "Epoch 12/20\n",
      "79/79 [==============================] - 36s 458ms/step - loss: 0.8049 - acc: 0.6900 - val_loss: 1.3739 - val_acc: 0.4776\n",
      "Epoch 13/20\n",
      "79/79 [==============================] - 35s 451ms/step - loss: 0.7684 - acc: 0.7056 - val_loss: 1.4101 - val_acc: 0.4730\n",
      "Epoch 14/20\n",
      "79/79 [==============================] - 32s 410ms/step - loss: 0.7331 - acc: 0.7211 - val_loss: 1.4945 - val_acc: 0.4748\n",
      "Epoch 15/20\n",
      "79/79 [==============================] - 32s 404ms/step - loss: 0.7021 - acc: 0.7351 - val_loss: 1.5908 - val_acc: 0.4690\n",
      "Epoch 16/20\n",
      "79/79 [==============================] - 30s 386ms/step - loss: 0.6697 - acc: 0.7483 - val_loss: 1.5965 - val_acc: 0.4699\n",
      "Epoch 17/20\n",
      "79/79 [==============================] - 33s 421ms/step - loss: 0.6387 - acc: 0.7613 - val_loss: 1.7458 - val_acc: 0.4663\n",
      "Epoch 18/20\n",
      "79/79 [==============================] - 35s 449ms/step - loss: 0.6157 - acc: 0.7739 - val_loss: 1.7046 - val_acc: 0.4692\n",
      "Epoch 19/20\n",
      "79/79 [==============================] - 42s 533ms/step - loss: 0.5866 - acc: 0.7829 - val_loss: 1.7684 - val_acc: 0.4688\n",
      "Epoch 20/20\n",
      "79/79 [==============================] - 32s 403ms/step - loss: 0.5679 - acc: 0.7906 - val_loss: 1.8019 - val_acc: 0.4654\n"
     ]
    }
   ],
   "source": [
    "# Train the Model\n",
    "model.compile(optimizer=Adam(learning_rate=1e-4),\n",
    "              loss='categorical_crossentropy',\n",
    "              metrics=['acc'])\n",
    "\n",
    "history = model.fit(x_train_split, y_train_split,\n",
    "                    epochs=20,\n",
    "                    batch_size=256,\n",
    "                    validation_data=(x_val, y_val))"
   ]
  },
  {
   "cell_type": "code",
   "execution_count": 193,
   "metadata": {},
   "outputs": [
    {
     "data": {
      "image/png": "[encoded data removed]",
      "text/plain": [
       "<Figure size 432x288 with 1 Axes>"
      ]
     },
     "metadata": {
      "needs_background": "light"
     },
     "output_type": "display_data"
    },
    {
     "data": {
      "image/png": "[encoded data removed]",
      "text/plain": [
       "<Figure size 432x288 with 1 Axes>"
      ]
     },
     "metadata": {
      "needs_background": "light"
     },
     "output_type": "display_data"
    }
   ],
   "source": [
    "# Plot the Training and Validation Accuracy & Loss Scores\n",
    "model.save_weights('pre_trained_glove_model_1.h5')\n",
    "\n",
    "%matplotlib inline\n",
    "import matplotlib.pyplot as plt\n",
    "\n",
    "acc = history.history['acc']\n",
    "val_acc = history.history['val_acc']\n",
    "loss = history.history['loss']\n",
    "val_loss = history.history['val_loss']\n",
    "\n",
    "epochs = range(1, len(acc) + 1)\n",
    "\n",
    "plt.plot(epochs, acc, 'bo', label='Training acc')\n",
    "plt.plot(epochs, val_acc, 'b', label='Validation acc')\n",
    "plt.title('Training and validation accuracy')\n",
    "plt.legend()\n",
    "\n",
    "plt.figure()\n",
    "\n",
    "plt.plot(epochs, loss, 'bo', label='Training loss')\n",
    "plt.plot(epochs, val_loss, 'b', label='Validation loss')\n",
    "plt.title('Training and validation loss')\n",
    "plt.legend()\n",
    "\n",
    "plt.show()"
   ]
  },
  {
   "cell_type": "code",
   "execution_count": 194,
   "metadata": {},
   "outputs": [],
   "source": [
    "# Save the Model\n",
    "model.save('text_model_weekang.h5')"
   ]
  },
  {
   "cell_type": "markdown",
   "metadata": {},
   "source": [
    "### Model #2  (Student Name: Lim Long Teck)"
   ]
  },
  {
   "cell_type": "code",
   "execution_count": null,
   "metadata": {},
   "outputs": [],
   "source": [
    "# Build the Model\n"
   ]
  },
  {
   "cell_type": "code",
   "execution_count": null,
   "metadata": {},
   "outputs": [],
   "source": [
    "# Train the Model\n"
   ]
  },
  {
   "cell_type": "code",
   "execution_count": null,
   "metadata": {},
   "outputs": [],
   "source": [
    "# Plot the Training and Validation Accuracy & Loss Scores\n",
    "model.save_weights('pre_trained_glove_model_2.h5')\n",
    "\n",
    "%matplotlib inline\n",
    "import matplotlib.pyplot as plt\n",
    "\n",
    "acc = history.history['acc']\n",
    "val_acc = history.history['val_acc']\n",
    "loss = history.history['loss']\n",
    "val_loss = history.history['val_loss']\n",
    "\n",
    "epochs = range(1, len(acc) + 1)\n",
    "\n",
    "plt.plot(epochs, acc, 'bo', label='Training acc')\n",
    "plt.plot(epochs, val_acc, 'b', label='Validation acc')\n",
    "plt.title('Training and validation accuracy')\n",
    "plt.legend()\n",
    "\n",
    "plt.figure()\n",
    "\n",
    "plt.plot(epochs, loss, 'bo', label='Training loss')\n",
    "plt.plot(epochs, val_loss, 'b', label='Validation loss')\n",
    "plt.title('Training and validation loss')\n",
    "plt.legend()\n",
    "\n",
    "plt.show()"
   ]
  },
  {
   "cell_type": "code",
   "execution_count": null,
   "metadata": {},
   "outputs": [],
   "source": [
    "# Save the Model\n",
    "model.save('text_model_LongTeck.h5')"
   ]
  },
  {
   "cell_type": "markdown",
   "metadata": {},
   "source": [
    "### Model #3  (Student Name: Han Xihe)"
   ]
  },
  {
   "cell_type": "code",
   "execution_count": null,
   "metadata": {},
   "outputs": [],
   "source": [
    "# Build the Model\n",
    "# Test comment for github"
   ]
  },
  {
   "cell_type": "code",
   "execution_count": null,
   "metadata": {},
   "outputs": [],
   "source": [
    "# Train the Model\n"
   ]
  },
  {
   "cell_type": "code",
   "execution_count": null,
   "metadata": {},
   "outputs": [],
   "source": [
    "# Plot the Training and Validation Accuracy & Loss Scores\n",
    "model.save_weights('pre_trained_glove_model_3.h5')\n",
    "\n",
    "%matplotlib inline\n",
    "import matplotlib.pyplot as plt\n",
    "\n",
    "acc = history.history['acc']\n",
    "val_acc = history.history['val_acc']\n",
    "loss = history.history['loss']\n",
    "val_loss = history.history['val_loss']\n",
    "\n",
    "epochs = range(1, len(acc) + 1)\n",
    "\n",
    "plt.plot(epochs, acc, 'bo', label='Training acc')\n",
    "plt.plot(epochs, val_acc, 'b', label='Validation acc')\n",
    "plt.title('Training and validation accuracy')\n",
    "plt.legend()\n",
    "\n",
    "plt.figure()\n",
    "\n",
    "plt.plot(epochs, loss, 'bo', label='Training loss')\n",
    "plt.plot(epochs, val_loss, 'b', label='Validation loss')\n",
    "plt.title('Training and validation loss')\n",
    "plt.legend()\n",
    "\n",
    "plt.show()"
   ]
  },
  {
   "cell_type": "code",
   "execution_count": null,
   "metadata": {},
   "outputs": [],
   "source": [
    "# Save the Model\n",
    "model.save('text_model_Xihe.h5')"
   ]
  },
  {
   "cell_type": "markdown",
   "metadata": {},
   "source": [
    "### Model #4  (Student Name: Yong Zi Ren)"
   ]
  },
  {
   "cell_type": "code",
   "execution_count": 6,
   "metadata": {
    "scrolled": true
   },
   "outputs": [
    {
     "name": "stdout",
     "output_type": "stream",
     "text": [
      "WARNING:tensorflow:Layer gru_4 will not use cuDNN kernels since it doesn't meet the criteria. It will use a generic GPU kernel as fallback when running on GPU.\n",
      "WARNING:tensorflow:Layer gru_4 will not use cuDNN kernels since it doesn't meet the criteria. It will use a generic GPU kernel as fallback when running on GPU.\n",
      "WARNING:tensorflow:Layer gru_4 will not use cuDNN kernels since it doesn't meet the criteria. It will use a generic GPU kernel as fallback when running on GPU.\n",
      "WARNING:tensorflow:Layer gru_5 will not use cuDNN kernels since it doesn't meet the criteria. It will use a generic GPU kernel as fallback when running on GPU.\n",
      "WARNING:tensorflow:Layer gru_5 will not use cuDNN kernels since it doesn't meet the criteria. It will use a generic GPU kernel as fallback when running on GPU.\n",
      "WARNING:tensorflow:Layer gru_5 will not use cuDNN kernels since it doesn't meet the criteria. It will use a generic GPU kernel as fallback when running on GPU.\n",
      "Model: \"sequential_1\"\n",
      "_________________________________________________________________\n",
      " Layer (type)                Output Shape              Param #   \n",
      "=================================================================\n",
      " embedding_1 (Embedding)     (None, 60, 128)           1280000   \n",
      "                                                                 \n",
      " bidirectional_3 (Bidirectio  (None, 60, 64)           31104     \n",
      " nal)                                                            \n",
      "                                                                 \n",
      " bidirectional_4 (Bidirectio  (None, 60, 128)          49920     \n",
      " nal)                                                            \n",
      "                                                                 \n",
      " bidirectional_5 (Bidirectio  (None, 256)              198144    \n",
      " nal)                                                            \n",
      "                                                                 \n",
      " batch_normalization_1 (Batc  (None, 256)              1024      \n",
      " hNormalization)                                                 \n",
      "                                                                 \n",
      " dense_1 (Dense)             (None, 5)                 1285      \n",
      "                                                                 \n",
      "=================================================================\n",
      "Total params: 1,561,477\n",
      "Trainable params: 1,560,965\n",
      "Non-trainable params: 512\n",
      "_________________________________________________________________\n"
     ]
    }
   ],
   "source": [
    "# Build the Model\n",
    "model = Sequential()\n",
    "model.add(Embedding(vocab_size, embedding_dim , input_length=max_length))\n",
    "model.add(Bidirectional(GRU(32, return_sequences=True)))\n",
    "model.add(Bidirectional(GRU(64, return_sequences=True, recurrent_dropout=0.5)))\n",
    "model.add(Bidirectional(GRU(128, recurrent_dropout=0.5)))\n",
    "model.add(BatchNormalization())\n",
    "model.add(Dense(5, activation='softmax'))\n",
    "model.summary()"
   ]
  },
  {
   "cell_type": "code",
   "execution_count": 7,
   "metadata": {
    "scrolled": false
   },
   "outputs": [
    {
     "name": "stdout",
     "output_type": "stream",
     "text": [
      "Epoch 1/20\n",
      "625/625 [==============================] - 429s 665ms/step - loss: 1.5662 - acc: 0.2573 - val_loss: 1.5119 - val_acc: 0.3143\n",
      "Epoch 2/20\n",
      "625/625 [==============================] - 419s 671ms/step - loss: 1.4362 - acc: 0.3459 - val_loss: 1.4137 - val_acc: 0.3584\n",
      "Epoch 3/20\n",
      "625/625 [==============================] - 412s 660ms/step - loss: 1.3553 - acc: 0.3949 - val_loss: 1.4005 - val_acc: 0.3683\n",
      "Epoch 4/20\n",
      "625/625 [==============================] - 410s 657ms/step - loss: 1.3075 - acc: 0.4220 - val_loss: 1.3303 - val_acc: 0.4012\n",
      "Epoch 5/20\n",
      "625/625 [==============================] - 403s 646ms/step - loss: 1.2685 - acc: 0.4437 - val_loss: 1.3221 - val_acc: 0.4106\n",
      "Epoch 6/20\n",
      "625/625 [==============================] - 418s 668ms/step - loss: 1.2387 - acc: 0.4639 - val_loss: 1.3243 - val_acc: 0.4130\n",
      "Epoch 7/20\n",
      "625/625 [==============================] - 444s 710ms/step - loss: 1.2158 - acc: 0.4761 - val_loss: 1.3412 - val_acc: 0.4094\n",
      "Epoch 8/20\n",
      "625/625 [==============================] - 427s 683ms/step - loss: 1.1904 - acc: 0.4929 - val_loss: 1.3426 - val_acc: 0.4101\n",
      "Epoch 9/20\n",
      "625/625 [==============================] - 411s 657ms/step - loss: 1.1661 - acc: 0.5009 - val_loss: 1.4200 - val_acc: 0.3955\n",
      "Epoch 10/20\n",
      "625/625 [==============================] - 392s 627ms/step - loss: 1.1438 - acc: 0.5156 - val_loss: 1.3648 - val_acc: 0.4076\n",
      "Epoch 11/20\n",
      "625/625 [==============================] - 388s 621ms/step - loss: 1.1219 - acc: 0.5290 - val_loss: 1.3877 - val_acc: 0.4024\n"
     ]
    }
   ],
   "source": [
    "# Train the Model\n",
    "model.compile(optimizer = AdaBelief(learning_rate=1e-4),\n",
    "              loss = 'categorical_crossentropy',\n",
    "              metrics = ['acc'])\n",
    "\n",
    "history = model.fit(x_train_split, y_train_split,\n",
    "                    epochs=20,\n",
    "                    batch_size=32,\n",
    "                    validation_data=(x_val, y_val),\n",
    "                    callbacks=[tf.keras.callbacks.EarlyStopping(\n",
    "                        monitor='val_acc',\n",
    "                        patience=5,\n",
    "                        restore_best_weights=True\n",
    "                    )])"
   ]
  },
  {
   "cell_type": "code",
   "execution_count": 8,
   "metadata": {},
   "outputs": [
    {
     "data": {
      "image/png": "[encoded data removed]",
      "text/plain": [
       "<Figure size 432x288 with 1 Axes>"
      ]
     },
     "metadata": {
      "needs_background": "light"
     },
     "output_type": "display_data"
    },
    {
     "data": {
      "image/png": "[encoded data removed]",
      "text/plain": [
       "<Figure size 432x288 with 1 Axes>"
      ]
     },
     "metadata": {
      "needs_background": "light"
     },
     "output_type": "display_data"
    }
   ],
   "source": [
    "# Plot the Training and Validation Accuracy & Loss Scores\n",
    "model.save_weights('pre_trained_glove_model_4.h5')\n",
    "\n",
    "%matplotlib inline\n",
    "import matplotlib.pyplot as plt\n",
    "\n",
    "acc = history.history['acc']\n",
    "val_acc = history.history['val_acc']\n",
    "loss = history.history['loss']\n",
    "val_loss = history.history['val_loss']\n",
    "\n",
    "epochs = range(1, len(acc) + 1)\n",
    "\n",
    "plt.plot(epochs, acc, 'bo', label='Training acc')\n",
    "plt.plot(epochs, val_acc, 'b', label='Validation acc')\n",
    "plt.title('Training and validation accuracy')\n",
    "plt.legend()\n",
    "\n",
    "plt.figure()\n",
    "\n",
    "plt.plot(epochs, loss, 'bo', label='Training loss')\n",
    "plt.plot(epochs, val_loss, 'b', label='Validation loss')\n",
    "plt.title('Training and validation loss')\n",
    "plt.legend()\n",
    "\n",
    "plt.show()"
   ]
  },
  {
   "cell_type": "code",
   "execution_count": 9,
   "metadata": {},
   "outputs": [],
   "source": [
    "# Save the Model\n",
    "model.save('text_model_ZiRen.h5')"
   ]
  },
  {
   "cell_type": "markdown",
   "metadata": {},
   "source": [
    "### Model #5  (Student Name: Hasanah)"
   ]
  },
  {
   "cell_type": "code",
   "execution_count": 65,
   "metadata": {},
   "outputs": [
    {
     "name": "stdout",
     "output_type": "stream",
     "text": [
      "Model: \"sequential_20\"\n",
      "_________________________________________________________________\n",
      " Layer (type)                Output Shape              Param #   \n",
      "=================================================================\n",
      " embedding_20 (Embedding)    (None, 60, 128)           1280000   \n",
      "                                                                 \n",
      " gru_34 (GRU)                (None, 60, 32)            15552     \n",
      "                                                                 \n",
      " gru_35 (GRU)                (None, 32)                6336      \n",
      "                                                                 \n",
      " dense_20 (Dense)            (None, 5)                 165       \n",
      "                                                                 \n",
      "=================================================================\n",
      "Total params: 1,302,053\n",
      "Trainable params: 1,302,053\n",
      "Non-trainable params: 0\n",
      "_________________________________________________________________\n"
     ]
    }
   ],
   "source": [
    "# Build the Model\n",
    "model = Sequential()\n",
    "model.add(Embedding(vocab_size, embedding_dim, input_length=max_length))\n",
    "model.add(GRU(32,dropout = 0.5, recurrent_dropout=0.5,return_sequences=True))\n",
    "model.add(GRU(32,dropout = 0.5, recurrent_dropout=0.5))\n",
    "model.add(Dense(5, activation='softmax'))\n",
    "model.summary()"
   ]
  },
  {
   "cell_type": "code",
   "execution_count": 66,
   "metadata": {},
   "outputs": [
    {
     "name": "stdout",
     "output_type": "stream",
     "text": [
      "Epoch 1/20\n",
      "1000/1000 [==============================] - 53s 49ms/step - loss: 1.5908 - acc: 0.2637 - val_loss: 1.5291 - val_acc: 0.3200\n",
      "Epoch 2/20\n",
      "1000/1000 [==============================] - 54s 54ms/step - loss: 1.4440 - acc: 0.3529 - val_loss: 1.3818 - val_acc: 0.3763\n",
      "Epoch 3/20\n",
      "1000/1000 [==============================] - 55s 55ms/step - loss: 1.3652 - acc: 0.3860 - val_loss: 1.3367 - val_acc: 0.4036\n",
      "Epoch 4/20\n",
      "1000/1000 [==============================] - 54s 54ms/step - loss: 1.3292 - acc: 0.4099 - val_loss: 1.3140 - val_acc: 0.4182\n",
      "Epoch 5/20\n",
      "1000/1000 [==============================] - 60s 60ms/step - loss: 1.3046 - acc: 0.4277 - val_loss: 1.2997 - val_acc: 0.4293\n",
      "Epoch 6/20\n",
      "1000/1000 [==============================] - 59s 59ms/step - loss: 1.2838 - acc: 0.4401 - val_loss: 1.2879 - val_acc: 0.4349\n",
      "Epoch 7/20\n",
      "1000/1000 [==============================] - 59s 59ms/step - loss: 1.2674 - acc: 0.4500 - val_loss: 1.2748 - val_acc: 0.4439\n",
      "Epoch 8/20\n",
      "1000/1000 [==============================] - 59s 59ms/step - loss: 1.2513 - acc: 0.4620 - val_loss: 1.2679 - val_acc: 0.4464\n",
      "Epoch 9/20\n",
      "1000/1000 [==============================] - 60s 60ms/step - loss: 1.2399 - acc: 0.4645 - val_loss: 1.2664 - val_acc: 0.4514\n",
      "Epoch 10/20\n",
      "1000/1000 [==============================] - 64s 64ms/step - loss: 1.2296 - acc: 0.4721 - val_loss: 1.2598 - val_acc: 0.4533\n",
      "Epoch 11/20\n",
      "1000/1000 [==============================] - 71s 71ms/step - loss: 1.2177 - acc: 0.4815 - val_loss: 1.2598 - val_acc: 0.4532\n",
      "Epoch 12/20\n",
      "1000/1000 [==============================] - 65s 65ms/step - loss: 1.2099 - acc: 0.4848 - val_loss: 1.2535 - val_acc: 0.4558\n",
      "Epoch 13/20\n",
      "1000/1000 [==============================] - 59s 59ms/step - loss: 1.2046 - acc: 0.4882 - val_loss: 1.2512 - val_acc: 0.4570\n",
      "Epoch 14/20\n",
      "1000/1000 [==============================] - 59s 59ms/step - loss: 1.1943 - acc: 0.4925 - val_loss: 1.2498 - val_acc: 0.4563\n",
      "Epoch 15/20\n",
      "1000/1000 [==============================] - 58s 58ms/step - loss: 1.1896 - acc: 0.4958 - val_loss: 1.2600 - val_acc: 0.4566\n",
      "Epoch 16/20\n",
      "1000/1000 [==============================] - 59s 59ms/step - loss: 1.1816 - acc: 0.5030 - val_loss: 1.2503 - val_acc: 0.4603\n",
      "Epoch 17/20\n",
      "1000/1000 [==============================] - 59s 59ms/step - loss: 1.1768 - acc: 0.5025 - val_loss: 1.2571 - val_acc: 0.4596\n",
      "Epoch 18/20\n",
      "1000/1000 [==============================] - 62s 62ms/step - loss: 1.1715 - acc: 0.5044 - val_loss: 1.2607 - val_acc: 0.4615\n",
      "Epoch 19/20\n",
      "1000/1000 [==============================] - 58s 58ms/step - loss: 1.1651 - acc: 0.5072 - val_loss: 1.2496 - val_acc: 0.4619\n",
      "Epoch 20/20\n",
      "1000/1000 [==============================] - 57s 57ms/step - loss: 1.1573 - acc: 0.5142 - val_loss: 1.2502 - val_acc: 0.4625\n"
     ]
    }
   ],
   "source": [
    "# Train the Model\n",
    "model.compile(optimizer=RMSprop(learning_rate=1e-4),\n",
    "              loss='categorical_crossentropy',\n",
    "              metrics=['acc'])\n",
    "\n",
    "history = model.fit(x_train_split, y_train_split,\n",
    "                    epochs=20,\n",
    "                    batch_size=20,\n",
    "                    validation_data=(x_val, y_val))"
   ]
  },
  {
   "cell_type": "code",
   "execution_count": 67,
   "metadata": {},
   "outputs": [
    {
     "data": {
      "image/png": "[encoded data removed]",
      "text/plain": [
       "<Figure size 432x288 with 1 Axes>"
      ]
     },
     "metadata": {
      "needs_background": "light"
     },
     "output_type": "display_data"
    },
    {
     "data": {
      "image/png": "[encoded data removed]",
      "text/plain": [
       "<Figure size 432x288 with 1 Axes>"
      ]
     },
     "metadata": {
      "needs_background": "light"
     },
     "output_type": "display_data"
    }
   ],
   "source": [
    "# Plot the Training and Validation Accuracy & Loss Scores\n",
    "model.save_weights('pre_trained_glove_model_5.h5')\n",
    "\n",
    "%matplotlib inline\n",
    "import matplotlib.pyplot as plt\n",
    "\n",
    "acc = history.history['acc']\n",
    "val_acc = history.history['val_acc']\n",
    "loss = history.history['loss']\n",
    "val_loss = history.history['val_loss']\n",
    "\n",
    "epochs = range(1, len(acc) + 1)\n",
    "\n",
    "plt.plot(epochs, acc, 'bo', label='Training acc')\n",
    "plt.plot(epochs, val_acc, 'b', label='Validation acc')\n",
    "plt.title('Training and validation accuracy')\n",
    "plt.legend()\n",
    "\n",
    "plt.figure()\n",
    "\n",
    "plt.plot(epochs, loss, 'bo', label='Training loss')\n",
    "plt.plot(epochs, val_loss, 'b', label='Validation loss')\n",
    "plt.title('Training and validation loss')\n",
    "plt.legend()\n",
    "\n",
    "plt.show()"
   ]
  },
  {
   "cell_type": "code",
   "execution_count": 68,
   "metadata": {},
   "outputs": [],
   "source": [
    "# Save the Model\n",
    "model.save('text_model_hasanah.h5')"
   ]
  },
  {
   "cell_type": "markdown",
   "metadata": {},
   "source": [
    "## Step 3 – Evaluate the Model using Testing Data (Individual & Group)"
   ]
  },
  {
   "cell_type": "code",
   "execution_count": 196,
   "metadata": {},
   "outputs": [
    {
     "name": "stdout",
     "output_type": "stream",
     "text": [
      "WARNING:tensorflow:Layer lstm_37 will not use cuDNN kernels since it doesn't meet the criteria. It will use a generic GPU kernel as fallback when running on GPU.\n",
      "WARNING:tensorflow:Layer lstm_38 will not use cuDNN kernels since it doesn't meet the criteria. It will use a generic GPU kernel as fallback when running on GPU.\n",
      "WARNING:tensorflow:Layer lstm_39 will not use cuDNN kernels since it doesn't meet the criteria. It will use a generic GPU kernel as fallback when running on GPU.\n",
      "50/50 [==============================] - 3s 58ms/step - loss: 1.8087 - acc: 0.4681\n",
      "test acc: 0.46810001134872437\n"
     ]
    }
   ],
   "source": [
    "# Model #1 (replicate where necessary for other models)\n",
    "model1 = keras.models.load_model('text_model_weekang.h5')\n",
    "\n",
    "test_loss, test_acc = model1.evaluate(x_test, y_test, steps=50)\n",
    "print('test acc:', test_acc)"
   ]
  },
  {
   "cell_type": "code",
   "execution_count": null,
   "metadata": {},
   "outputs": [],
   "source": [
    "# Model #2 (replicate where necessary for other models)\n",
    "model2 = keras.models.load_model('text_model_LongTeck.h5')\n",
    "\n",
    "test_loss, test_acc = model1.evaluate(x_val, y_val, steps=50)\n",
    "print('test acc:', test_acc)"
   ]
  },
  {
   "cell_type": "code",
   "execution_count": null,
   "metadata": {},
   "outputs": [],
   "source": [
    "# Model #3 (replicate where necessary for other models)\n",
    "model3 = keras.models.load_model('text_model_Xihe.h5')\n",
    "\n",
    "test_loss, test_acc = model1.evaluate(x_val, y_val, steps=50)\n",
    "print('test acc:', test_acc)"
   ]
  },
  {
   "cell_type": "code",
   "execution_count": null,
   "metadata": {},
   "outputs": [],
   "source": [
    "# Model #4 (replicate where necessary for other models)\n",
    "model4 = keras.models.load_model('text_model_ZiRen.h5')\n",
    "\n",
    "test_loss, test_acc = model1.evaluate(x_val, y_val, steps=50)\n",
    "print('test acc:', test_acc)"
   ]
  },
  {
   "cell_type": "code",
   "execution_count": 70,
   "metadata": {},
   "outputs": [
    {
     "name": "stdout",
     "output_type": "stream",
     "text": [
      "50/50 [==============================] - 6s 93ms/step - loss: 1.2580 - acc: 0.4562\n",
      "test acc: 0.4562000036239624\n"
     ]
    }
   ],
   "source": [
    "# Model #5 (replicate where necessary for other models)\n",
    "model5 = keras.models.load_model('text_model_hasanah.h5')\n",
    "\n",
    "test_loss, test_acc = model5.evaluate(x_test, y_test, steps=50)\n",
    "print('test acc:', test_acc)"
   ]
  },
  {
   "cell_type": "code",
   "execution_count": 197,
   "metadata": {},
   "outputs": [],
   "source": [
    "# Save the Best Model\n",
    "model1.save('text_model_best.h5')"
   ]
  },
  {
   "cell_type": "markdown",
   "metadata": {},
   "source": [
    "## Step 4 – Use the Best Model to make prediction (Group)"
   ]
  },
  {
   "cell_type": "code",
   "execution_count": 198,
   "metadata": {},
   "outputs": [
    {
     "name": "stdout",
     "output_type": "stream",
     "text": [
      "WARNING:tensorflow:Layer lstm_37 will not use cuDNN kernels since it doesn't meet the criteria. It will use a generic GPU kernel as fallback when running on GPU.\n",
      "WARNING:tensorflow:Layer lstm_38 will not use cuDNN kernels since it doesn't meet the criteria. It will use a generic GPU kernel as fallback when running on GPU.\n",
      "WARNING:tensorflow:Layer lstm_39 will not use cuDNN kernels since it doesn't meet the criteria. It will use a generic GPU kernel as fallback when running on GPU.\n"
     ]
    }
   ],
   "source": [
    "best_model = keras.models.load_model('text_model_best.h5')"
   ]
  },
  {
   "cell_type": "code",
   "execution_count": 235,
   "metadata": {},
   "outputs": [
    {
     "name": "stdout",
     "output_type": "stream",
     "text": [
      "it is very laggy it plays the wrong movies\n"
     ]
    }
   ],
   "source": [
    "# takes the user input\n",
    "text_input = np.array([input(\"\")])"
   ]
  },
  {
   "cell_type": "code",
   "execution_count": 236,
   "metadata": {},
   "outputs": [
    {
     "name": "stdout",
     "output_type": "stream",
     "text": [
      "Found 8 unique tokens.\n",
      "['it is very laggy it plays the wrong movies']\n",
      "Shape of data tensor: (1, 40)\n"
     ]
    }
   ],
   "source": [
    "# convert the user input into numeric tensor\n",
    "\n",
    "# Initialize tokenizer\n",
    "vocab_size = 10000\n",
    "embedding_dim = 32\n",
    "max_length = 40\n",
    "trunc_type = 'post'\n",
    "\n",
    "tokenizer = Tokenizer(num_words=vocab_size)\n",
    "tokenizer.fit_on_texts(text_input)\n",
    "sequences = tokenizer.texts_to_sequences(text_input)\n",
    "word_index = tokenizer.word_index\n",
    "print('Found %s unique tokens.' % len(word_index))\n",
    "data = pad_sequences(sequences, maxlen=max_length)\n",
    "\n",
    "print(text_input)\n",
    "print('Shape of data tensor:', data.shape)"
   ]
  },
  {
   "cell_type": "code",
   "execution_count": 237,
   "metadata": {},
   "outputs": [
    {
     "name": "stdout",
     "output_type": "stream",
     "text": [
      "This review's rating is: 4\n"
     ]
    }
   ],
   "source": [
    "# show the model output using predict function\n",
    "predictions = model.predict(data)\n",
    "print(\"This review's rating is: \" + str(predictions.argmax()))"
   ]
  }
 ],
 "metadata": {
  "kernelspec": {
   "display_name": "Python 3 (ipykernel)",
   "language": "python",
   "name": "python3"
  },
  "language_info": {
   "codemirror_mode": {
    "name": "ipython",
    "version": 3
   },
   "file_extension": ".py",
   "mimetype": "text/x-python",
   "name": "python",
   "nbconvert_exporter": "python",
   "pygments_lexer": "ipython3",
   "version": "3.9.12"
  },
  "vscode": {
   "interpreter": {
    "hash": "a56693350f4d136977fd82a473a3c12877e2cccc42e2977d95f1109918ffeae5"
   }
  },
  "widgets": {
   "application/vnd.jupyter.widget-state+json": {
    "state": {},
    "version_major": 2,
    "version_minor": 0
   }
  }
 },
 "nbformat": 4,
 "nbformat_minor": 4
}
